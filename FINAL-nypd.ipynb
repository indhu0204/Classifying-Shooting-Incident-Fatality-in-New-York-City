{
 "cells": [
  {
   "cell_type": "markdown",
   "id": "6fb8ae89",
   "metadata": {},
   "source": [
    "# Classifying Shooting Incident Fatality\n",
    "We have partnered with, a leading data analytics firm specializing in urban crime analysis, they have initiated a project to enhance response strategies through data-driven insights and efficient allocation of resources based on severity prioritization in New York City.\n",
    "\n",
    "They aim is to provide actionable insights to law enforcement agencies for the development of targeted policing strategies. The task is to develop a machine learning model to analyze historical shooting incident data, classifying them as fatal or non-fatal. This model will provide valuable insights into the factors influencing fatality rates and the ability to focus on high priority areas. (Predict: STATISTICAL_MURDER_FLAG - TRUE or FALSE)"
   ]
  },
  {
   "cell_type": "markdown",
   "id": "6fee9cc6-44d5-4f4c-91d6-1097799335a4",
   "metadata": {},
   "source": [
    "# About the dataset"
   ]
  },
  {
   "cell_type": "markdown",
   "id": "634dd9db-848b-44cf-8424-9805ead75fbe",
   "metadata": {},
   "source": [
    "**incident_key** - Randomly generated persistent ID for each arrest\n",
    "\n",
    "**occur_date** - Exact date of the shooting incident\n",
    "\n",
    "**occur_time** - Exact time of the shooting incident\n",
    "\n",
    "**boro** - Borough where the shooting incident occurred\n",
    "\n",
    "**loc_of_occur_desc** - (no description provided)\n",
    "\n",
    "**precinct** - Precinct where the shooting incident occurred\n",
    "\n",
    "**jurisdiction_code** - Jurisdiction where the shooting incident occurred. Jurisdiction codes 0(Patrol), 1(Transit) and 2(Housing) represent NYPD whilst codes 3 and more represent non NYPD jurisdictions\n",
    "\n",
    "**loc_classfctn_desc** - (no description provided)\n",
    "\n",
    "**location_desc** - Location of the shooting incident\n",
    "\n",
    "**statistical_murder_flag** - Shooting resulted in the victim's death which would be counted as a murder\n",
    "\n",
    "**perp_age_group** - Perpetrator's age within a category\n",
    "\n",
    "**perp_sex** - Perpetrator's sex description\n",
    "\n",
    "**perp_race** - Perpetrator's race description\n",
    "\n",
    "**vic_age_group** - Victim's age within a category\n",
    "\n",
    "**vic_sex** - Victim's sex description\n",
    "\n",
    "**vic_race** - Victim's race description\n",
    "\n",
    "**x_coord_cd** - Midblock X-coordinate for New York State Plane Coordinate System, Long Island Zone, NAD 83, units feet (FIPS 3104)\n",
    "\n",
    "**y_coord_cd** - Midblock Y-coordinate for New York State Plane Coordinate System, Long Island Zone, NAD 83, units feet (FIPS 3104)\n",
    "\n",
    "**latitude** - Latitude coordinate for Global Coordinate System, WGS 1984, decimal degrees (EPSG 4326)\n",
    "\n",
    "**longitude** - Longitude coordinate for Global Coordinate System, WGS 1984, decimal degrees (EPSG 4326)\n",
    "\n",
    "**Lon_Lat (geocoded_column)** - Longitude and Latitude Coordinates for mapping"
   ]
  },
  {
   "cell_type": "code",
   "execution_count": null,
   "id": "f8f73876-415c-4897-95a3-0152cb47fe18",
   "metadata": {},
   "outputs": [],
   "source": [
    "!pip install seaborn"
   ]
  },
  {
   "cell_type": "code",
   "execution_count": null,
   "id": "a82b32e1",
   "metadata": {},
   "outputs": [],
   "source": [
    "import numpy as np\n",
    "import pandas as pd\n",
    "import matplotlib.pyplot as plt\n",
    "import seaborn as sns\n",
    "%matplotlib inline"
   ]
  },
  {
   "cell_type": "code",
   "execution_count": null,
   "id": "24d914a8",
   "metadata": {},
   "outputs": [],
   "source": [
    "df=pd.read_csv('NYPD_Shooting_Incident_Data__Historic_.csv')\n",
    "df.head()"
   ]
  },
  {
   "cell_type": "code",
   "execution_count": null,
   "id": "bb99caf2",
   "metadata": {},
   "outputs": [],
   "source": [
    "df.shape"
   ]
  },
  {
   "cell_type": "code",
   "execution_count": null,
   "id": "eb66c131",
   "metadata": {},
   "outputs": [],
   "source": [
    "df.info()"
   ]
  },
  {
   "cell_type": "code",
   "execution_count": null,
   "id": "81fa5bf0",
   "metadata": {},
   "outputs": [],
   "source": [
    "df.columns"
   ]
  },
  {
   "cell_type": "code",
   "execution_count": null,
   "id": "23f037db",
   "metadata": {},
   "outputs": [],
   "source": [
    "df.describe()"
   ]
  },
  {
   "cell_type": "code",
   "execution_count": null,
   "id": "029a9fb6",
   "metadata": {},
   "outputs": [],
   "source": [
    "df.isnull()"
   ]
  },
  {
   "cell_type": "code",
   "execution_count": null,
   "id": "9f2112e8",
   "metadata": {},
   "outputs": [],
   "source": [
    "features =['INCIDENT_KEY', 'OCCUR_DATE', 'OCCUR_TIME', 'BORO', 'LOC_OF_OCCUR_DESC',\n",
    "       'PRECINCT', 'JURISDICTION_CODE', 'LOC_CLASSFCTN_DESC', 'LOCATION_DESC',\n",
    "       'STATISTICAL_MURDER_FLAG', 'PERP_AGE_GROUP', 'PERP_SEX', 'PERP_RACE',\n",
    "       'VIC_AGE_GROUP', 'VIC_SEX', 'VIC_RACE', 'X_COORD_CD', 'Y_COORD_CD',\n",
    "       'Latitude', 'Longitude', 'Lon_Lat']"
   ]
  },
  {
   "cell_type": "code",
   "execution_count": null,
   "id": "9ade6736",
   "metadata": {},
   "outputs": [],
   "source": [
    "for feature in features:\n",
    "    null_check = pd.isnull(df[feature])\n",
    "null_check\n",
    "\n",
    "null_check.value_counts()"
   ]
  },
  {
   "cell_type": "code",
   "execution_count": null,
   "id": "b60417e3",
   "metadata": {},
   "outputs": [],
   "source": [
    "print(df.isnull().sum())"
   ]
  },
  {
   "cell_type": "code",
   "execution_count": null,
   "id": "91a7de68",
   "metadata": {},
   "outputs": [],
   "source": [
    "# Drop unnecessary columns\n",
    "df = df.drop(['OCCUR_DATE', 'OCCUR_TIME', 'BORO', 'LOC_OF_OCCUR_DESC', 'LOC_CLASSFCTN_DESC', \n",
    "              'LOCATION_DESC', 'PERP_AGE_GROUP', 'PERP_SEX', 'PERP_RACE', \n",
    "              'VIC_AGE_GROUP', 'VIC_SEX', 'VIC_RACE', 'Lon_Lat'], axis=1)"
   ]
  },
  {
   "cell_type": "code",
   "execution_count": null,
   "id": "74553373",
   "metadata": {},
   "outputs": [],
   "source": [
    "df = df.drop(columns=['INCIDENT_KEY'])"
   ]
  },
  {
   "cell_type": "code",
   "execution_count": null,
   "id": "192ec99f",
   "metadata": {},
   "outputs": [],
   "source": [
    "df.head()"
   ]
  },
  {
   "cell_type": "code",
   "execution_count": null,
   "id": "ad533816",
   "metadata": {},
   "outputs": [],
   "source": [
    "df['STATISTICAL_MURDER_FLAG'] = df['STATISTICAL_MURDER_FLAG'].replace({True:1,False:0})"
   ]
  },
  {
   "cell_type": "code",
   "execution_count": null,
   "id": "a65931f7",
   "metadata": {},
   "outputs": [],
   "source": [
    "df.head()"
   ]
  },
  {
   "cell_type": "code",
   "execution_count": null,
   "id": "5d1df06f",
   "metadata": {},
   "outputs": [],
   "source": [
    "df.info()"
   ]
  },
  {
   "cell_type": "code",
   "execution_count": null,
   "id": "000bb95e",
   "metadata": {},
   "outputs": [],
   "source": [
    "# Visualization - Histogram of a few numerical columns\n",
    "df.hist(column=['PRECINCT', 'X_COORD_CD', 'Y_COORD_CD'], bins=50, figsize=(20, 15))\n",
    "plt.show()"
   ]
  },
  {
   "cell_type": "code",
   "execution_count": null,
   "id": "019749ec",
   "metadata": {},
   "outputs": [],
   "source": [
    "print(df.isnull().sum())"
   ]
  },
  {
   "cell_type": "code",
   "execution_count": null,
   "id": "533e6b2e",
   "metadata": {},
   "outputs": [],
   "source": [
    "df = df.dropna(how='any')"
   ]
  },
  {
   "cell_type": "code",
   "execution_count": null,
   "id": "a756ada9",
   "metadata": {},
   "outputs": [],
   "source": [
    "print(df.isnull().sum())"
   ]
  },
  {
   "cell_type": "code",
   "execution_count": null,
   "id": "c5ccf416",
   "metadata": {},
   "outputs": [],
   "source": [
    "df.dtypes"
   ]
  },
  {
   "cell_type": "code",
   "execution_count": null,
   "id": "8f40fbeb",
   "metadata": {},
   "outputs": [],
   "source": [
    "# Drop target column for box plot visualization\n",
    "X = df.drop('STATISTICAL_MURDER_FLAG', axis=1)"
   ]
  },
  {
   "cell_type": "code",
   "execution_count": null,
   "id": "e8f1a85a",
   "metadata": {},
   "outputs": [],
   "source": [
    "# Boxplot for visualizing outliers\n",
    "X.plot(kind='box', subplots=True, layout=(5, 5), figsize=(20, 20))\n",
    "plt.show()"
   ]
  },
  {
   "cell_type": "code",
   "execution_count": null,
   "id": "23df5d44",
   "metadata": {},
   "outputs": [],
   "source": [
    "X = df.drop('STATISTICAL_MURDER_FLAG', axis=1)\n",
    "y = df['STATISTICAL_MURDER_FLAG']"
   ]
  },
  {
   "cell_type": "code",
   "execution_count": null,
   "id": "ae9e3cb0-a0d2-484f-9b78-0df9789af44c",
   "metadata": {},
   "outputs": [],
   "source": [
    "!pip install scikit-learn\n"
   ]
  },
  {
   "cell_type": "code",
   "execution_count": null,
   "id": "6067f4ef",
   "metadata": {},
   "outputs": [],
   "source": [
    "from sklearn.model_selection import train_test_split\n",
    "X_train, X_test, y_train, y_test = train_test_split(X, y, test_size=0.2, random_state=42)"
   ]
  },
  {
   "cell_type": "code",
   "execution_count": null,
   "id": "f1d2d3ef",
   "metadata": {},
   "outputs": [],
   "source": [
    "print(f\"the shape of X_train {X_train.shape}\")\n",
    "print(f\"the shape of X_test {X_test.shape}\")\n",
    "print(f\"the shape of y_train {y_train.shape}\")\n",
    "print(f\"the shape of y_test {y_test.shape}\")"
   ]
  },
  {
   "cell_type": "code",
   "execution_count": null,
   "id": "ea064c74",
   "metadata": {},
   "outputs": [],
   "source": [
    "from sklearn.preprocessing import StandardScaler\n",
    "scaler = StandardScaler()\n",
    "X_train_scaled = scaler.fit_transform(X_train)\n",
    "X_test_scaled = scaler.fit_transform(X_test)\n",
    "\n",
    "print(f\"the shape of X_train_scaled {X_train_scaled.shape}\")\n",
    "print(f\"the shape of X_test_scaled {X_test_scaled.shape}\")\n",
    "print(f\"the shape of y_train {y_train.shape}\")\n",
    "print(f\"the shape of y_test {y_test.shape}\")\n"
   ]
  },
  {
   "cell_type": "code",
   "execution_count": null,
   "id": "3e9e45cb",
   "metadata": {},
   "outputs": [],
   "source": [
    "X_train_scaled"
   ]
  },
  {
   "cell_type": "code",
   "execution_count": null,
   "id": "a4c9be4a",
   "metadata": {},
   "outputs": [],
   "source": [
    "from sklearn.linear_model import LogisticRegression\n",
    "from sklearn.tree import DecisionTreeClassifier\n",
    "from sklearn.ensemble import RandomForestClassifier, GradientBoostingClassifier\n",
    "from sklearn.svm import SVC\n",
    "from sklearn.neighbors import KNeighborsClassifier\n",
    "from sklearn.naive_bayes import GaussianNB\n",
    "from sklearn.metrics import accuracy_score, precision_score, recall_score, f1_score\n",
    "\n",
    "\n",
    "models = {\n",
    "    \"Logistic Regression\": LogisticRegression(max_iter=1000),\n",
    "    \"Decision Tree\": DecisionTreeClassifier(),\n",
    "    \"Random Forest\": RandomForestClassifier(),\n",
    "    \"SVM\": SVC(),\n",
    "    \"KNN\": KNeighborsClassifier(),\n",
    "    \"Gradient Boosting\": GradientBoostingClassifier(),\n",
    "    \"Naive Bayes\": GaussianNB()\n",
    "}\n",
    "\n",
    "# Function to evaluate a model\n",
    "def evaluate_model(model, X_test, y_test):\n",
    "    y_pred = model.predict(X_test)\n",
    "    return {\n",
    "        \"Accuracy\": accuracy_score(y_test, y_pred),\n",
    "        \"Precision\": precision_score(y_test, y_pred),\n",
    "        \"Recall\": recall_score(y_test, y_pred),\n",
    "        \"F1 Score\": f1_score(y_test, y_pred)\n",
    "    }\n",
    "\n",
    "# Train and evaluate each model\n",
    "evaluation_metrics = {}\n",
    "for model_name, model in models.items():\n",
    "    model.fit(X_train_scaled, y_train)\n",
    "    evaluation_metrics[model_name] = evaluate_model(model, X_test_scaled, y_test)\n",
    "\n",
    "# Convert the evaluation metrics to a DataFrame for better visualization\n",
    "evaluation_df = pd.DataFrame(evaluation_metrics).T\n",
    "\n"
   ]
  },
  {
   "cell_type": "code",
   "execution_count": null,
   "id": "ef16b158",
   "metadata": {},
   "outputs": [],
   "source": [
    "evaluation_df"
   ]
  },
  {
   "cell_type": "code",
   "execution_count": null,
   "id": "4c654e1c",
   "metadata": {},
   "outputs": [],
   "source": [
    "plt.figure(figsize=(15,8))\n",
    "sns.heatmap(X_train.corr(),annot=True,cmap=\"YlGnBu\")"
   ]
  },
  {
   "cell_type": "code",
   "execution_count": null,
   "id": "b1e6cb1f",
   "metadata": {},
   "outputs": [],
   "source": [
    "# Boxplot for visualizing outliers\n",
    "X_train.plot(kind='box', subplots=True, layout=(5, 5), figsize=(20, 20))\n",
    "plt.show()"
   ]
  },
  {
   "cell_type": "markdown",
   "id": "1cbfc83d",
   "metadata": {},
   "source": [
    "### Outlier Treatment"
   ]
  },
  {
   "cell_type": "code",
   "execution_count": null,
   "id": "81b551cb",
   "metadata": {},
   "outputs": [],
   "source": [
    "!pip install scikit-learn"
   ]
  },
  {
   "cell_type": "code",
   "execution_count": null,
   "id": "df34b72c-9d0a-48af-9d40-eef9b74cd452",
   "metadata": {},
   "outputs": [],
   "source": [
    "import pandas as pd\n",
    "import numpy as np\n",
    "from sklearn.ensemble import IsolationForest\n",
    "from sklearn.preprocessing import StandardScaler, LabelEncoder\n",
    "from sklearn.model_selection import train_test_split\n",
    "from sklearn.linear_model import LogisticRegression\n",
    "from sklearn.tree import DecisionTreeClassifier\n",
    "from sklearn.ensemble import RandomForestClassifier\n",
    "from sklearn.svm import SVC\n",
    "from sklearn.naive_bayes import GaussianNB\n",
    "from sklearn.neighbors import KNeighborsClassifier\n",
    "from sklearn.pipeline import Pipeline\n",
    "from sklearn.metrics import accuracy_score\n",
    "import joblib"
   ]
  },
  {
   "cell_type": "code",
   "execution_count": null,
   "id": "cda7ff5e",
   "metadata": {},
   "outputs": [],
   "source": [
    "df"
   ]
  },
  {
   "cell_type": "code",
   "execution_count": null,
   "id": "91595af0-953c-4ec0-b725-2fa7f0741c47",
   "metadata": {},
   "outputs": [],
   "source": [
    "# Preprocessing\n",
    "#Since the STATISTICAL_MURDER_FLAG was a categorical column , used label encoder for safer side to change to numerical column ...\n",
    "df = df.dropna(subset=['X_COORD_CD', 'Y_COORD_CD', 'Latitude', 'Longitude', 'STATISTICAL_MURDER_FLAG'])\n",
    "label_encoder = LabelEncoder()\n",
    "df['STATISTICAL_MURDER_FLAG'] = label_encoder.fit_transform(df['STATISTICAL_MURDER_FLAG'])"
   ]
  },
  {
   "cell_type": "code",
   "execution_count": null,
   "id": "3d380d1f-51f2-4dcd-99df-f48843fa11d5",
   "metadata": {},
   "outputs": [],
   "source": [
    "print(df.isnull().sum())"
   ]
  },
  {
   "cell_type": "code",
   "execution_count": null,
   "id": "f4d1e19f",
   "metadata": {},
   "outputs": [],
   "source": [
    "# Selecting features and target\n",
    "features = ['X_COORD_CD', 'Y_COORD_CD', 'Latitude', 'Longitude']\n",
    "X = df[features]\n",
    "y = df['STATISTICAL_MURDER_FLAG']"
   ]
  },
  {
   "cell_type": "code",
   "execution_count": null,
   "id": "1524f683",
   "metadata": {},
   "outputs": [],
   "source": [
    "# Scaling features\n",
    "scaler = StandardScaler()\n",
    "X_scaled = scaler.fit_transform(X)"
   ]
  },
  {
   "cell_type": "code",
   "execution_count": null,
   "id": "3e8cdef6",
   "metadata": {},
   "outputs": [],
   "source": [
    "# Remove outliers using Isolation Forest\n",
    "iso_forest = IsolationForest(contamination=0.05)\n",
    "outliers = iso_forest.fit_predict(X_scaled)\n",
    "mask = outliers != -1\n",
    "\n",
    "X_clean = X_scaled[mask]\n",
    "y_clean = y[mask]\n"
   ]
  },
  {
   "cell_type": "code",
   "execution_count": null,
   "id": "39b86b76-0571-4dac-9e4d-d603fad92217",
   "metadata": {},
   "outputs": [],
   "source": [
    "from sklearn.decomposition import PCA\n",
    "X['outlier'] = outliers\n",
    "pca = PCA(n_components=2)\n",
    "X_pca = pca.fit_transform(X.drop(columns=['outlier']))\n",
    "X_pca_df = pd.DataFrame(X_pca, columns=['PCA1', 'PCA2'])\n",
    "X_pca_df['outlier'] = outliers\n",
    "\n",
    "# Visualize Outliers Before Removal\n",
    "plt.figure(figsize=(14, 6))\n",
    "\n",
    "plt.subplot(1, 2, 1)\n",
    "sns.scatterplot(x='PCA1', y='PCA2', hue='outlier', data=X_pca_df, palette=['blue', 'red'])\n",
    "plt.title('Outliers Before Removal')\n",
    "plt.legend(['Inlier', 'Outlier'])\n",
    "\n",
    "# Remove Outliers\n",
    "X_clean = X[X['outlier'] == 1]\n",
    "\n",
    "# Apply PCA again to the cleaned data\n",
    "X_clean_pca = pca.fit_transform(X_clean.drop(columns=['outlier']))\n",
    "X_clean_pca_df = pd.DataFrame(X_clean_pca, columns=['PCA1', 'PCA2'])\n",
    "\n",
    "# Visualize Data After Outlier Removal\n",
    "plt.subplot(1, 2, 2)\n",
    "sns.scatterplot(x='PCA1', y='PCA2', data=X_clean_pca_df, color='blue')\n",
    "plt.title('Outliers After Removal')\n",
    "\n",
    "plt.tight_layout()\n",
    "plt.show()"
   ]
  },
  {
   "cell_type": "code",
   "execution_count": null,
   "id": "13689459-a3f1-4706-b5f5-3bae38c2d25f",
   "metadata": {},
   "outputs": [],
   "source": [
    "# Visualize correlation heatmap\n",
    "plt.figure(figsize=(10, 8))\n",
    "sns.heatmap(pd.DataFrame(X_scaled, columns=features).corr(), annot=True, cmap='coolwarm')\n",
    "plt.title('Correlation Heatmap of Features')\n",
    "plt.show()"
   ]
  },
  {
   "cell_type": "code",
   "execution_count": null,
   "id": "9cb11e1b-162c-40e2-b7ce-c3c1cc33cd03",
   "metadata": {},
   "outputs": [],
   "source": [
    "# Continue with model evaluation and selection\n",
    "X_clean = X_clean.drop(columns=['outlier'])\n",
    "X_clean_scaled = scaler.fit_transform(X_clean)"
   ]
  },
  {
   "cell_type": "code",
   "execution_count": null,
   "id": "01268ec8-f52f-4f36-8b7e-1c2d179975de",
   "metadata": {},
   "outputs": [],
   "source": [
    "X_clean.head(25)"
   ]
  },
  {
   "cell_type": "code",
   "execution_count": null,
   "id": "cd3c0e08-c3c0-43ca-880d-c5baf0f916c6",
   "metadata": {},
   "outputs": [],
   "source": [
    "y_clean.head()"
   ]
  },
  {
   "cell_type": "code",
   "execution_count": null,
   "id": "387528ef-0445-49a5-9be3-df9b25cd5f91",
   "metadata": {},
   "outputs": [],
   "source": [
    "!pip install imblearn\n"
   ]
  },
  {
   "cell_type": "code",
   "execution_count": null,
   "id": "d5de7277-1678-45c4-848a-32d4affc3602",
   "metadata": {},
   "outputs": [],
   "source": [
    "from imblearn.over_sampling import SMOTE\n",
    "sm = SMOTE(random_state=42)\n",
    "X_res, y_res = sm.fit_resample(X_clean,y_clean)\n"
   ]
  },
  {
   "cell_type": "code",
   "execution_count": null,
   "id": "8f580dde-0833-4b13-a64d-daf908c7efaf",
   "metadata": {},
   "outputs": [],
   "source": []
  },
  {
   "cell_type": "code",
   "execution_count": null,
   "id": "bc5523d4",
   "metadata": {},
   "outputs": [],
   "source": [
    "# Train/test split\n",
    "X_train, X_test, y_train, y_test = train_test_split(X_res, y_res, test_size=0.2, random_state=42)"
   ]
  },
  {
   "cell_type": "code",
   "execution_count": null,
   "id": "a99799c8",
   "metadata": {},
   "outputs": [],
   "source": [
    "# Models to evaluate\n",
    "models = {\n",
    "    'Logistic Regression': LogisticRegression(),\n",
    "    'Decision Tree': DecisionTreeClassifier(),\n",
    "    'Random Forest': RandomForestClassifier(),\n",
    "     'Gradient Boosting': GradientBoostingClassifier(),\n",
    "    'Support Vector Machine': SVC(),\n",
    "    'Naive Bayes': GaussianNB(),\n",
    "    'K-Nearest Neighbors': KNeighborsClassifier()\n",
    "}"
   ]
  },
  {
   "cell_type": "code",
   "execution_count": null,
   "id": "ce593133-9292-4fd9-a72f-a07396b57852",
   "metadata": {},
   "outputs": [],
   "source": [
    "from sklearn.metrics import classification_report, accuracy_score\n",
    "import joblib"
   ]
  },
  {
   "cell_type": "code",
   "execution_count": null,
   "id": "cc9d934b-93e8-4766-8e82-7b1a3ce9c240",
   "metadata": {},
   "outputs": [],
   "source": [
    "# Evaluate models\n",
    "best_model_name = None\n",
    "best_model = None\n",
    "best_f1_score = 0\n",
    "\n",
    "results = []\n",
    "\n",
    "for name, model in models.items():\n",
    "    pipeline = Pipeline([\n",
    "        ('scaler', StandardScaler()),\n",
    "        ('classifier', model)\n",
    "    ])\n",
    "    pipeline.fit(X_train, y_train)\n",
    "    y_pred = pipeline.predict(X_test)\n",
    "    \n",
    "    accuracy = accuracy_score(y_test, y_pred)\n",
    "    precision = precision_score(y_test, y_pred)\n",
    "    recall = recall_score(y_test, y_pred)\n",
    "    f1 = f1_score(y_test, y_pred)\n",
    "    \n",
    "    results.append((name, accuracy, precision, recall, f1))\n",
    "    \n",
    "    if f1 > best_f1_score:  # Change to F1 Score for model selection\n",
    "        best_f1_score = f1\n",
    "        best_model_name = name\n",
    "        best_model = pipeline\n",
    "\n",
    "# Print results in a tabular format\n",
    "print(f\"{'Model':<25}{'Accuracy':<10}{'Precision':<10}{'Recall':<10}{'F1 Score':<10}\")\n",
    "print(\"=\"*65)\n",
    "for name, accuracy, precision, recall, f1 in results:\n",
    "    print(f\"{name:<25}{accuracy:<10.4f}{precision:<10.4f}{recall:<10.4f}{f1:<10.4f}\")\n",
    "\n"
   ]
  },
  {
   "cell_type": "markdown",
   "id": "8ae4ac7a-990e-45ff-acc9-b812ffd54aa9",
   "metadata": {},
   "source": [
    "### choosing the best model "
   ]
  },
  {
   "cell_type": "code",
   "execution_count": null,
   "id": "6522717c-cfc8-4b73-8479-fec4b27e7d5b",
   "metadata": {},
   "outputs": [],
   "source": [
    "# Save the best model\n",
    "joblib.dump(best_model, 'best_model.pkl')"
   ]
  },
  {
   "cell_type": "code",
   "execution_count": null,
   "id": "fe3185c9-9154-4a74-b6ca-b2a402632c14",
   "metadata": {},
   "outputs": [],
   "source": [
    "# Save the name of the best model\n",
    "with open('best_model_name.txt', 'w') as f:\n",
    "    f.write(best_model_name)"
   ]
  },
  {
   "cell_type": "code",
   "execution_count": null,
   "id": "b2bb3502-3eaf-44ed-8c73-4f6228284690",
   "metadata": {},
   "outputs": [],
   "source": [
    "# Load the name of the best model\n",
    "with open('best_model_name.txt', 'r') as f:\n",
    "    best_model_name = f.read()\n",
    "\n",
    "print(f\"The best model is: {best_model_name}\")"
   ]
  },
  {
   "cell_type": "code",
   "execution_count": null,
   "id": "b7e017bb-72d2-4aae-a040-d003781e94b0",
   "metadata": {},
   "outputs": [],
   "source": [
    "!pip install typing_extensions==4.8.0 --upgrade\n",
    "!pip install gradio\n",
    "!pip install fastapi"
   ]
  },
  {
   "cell_type": "code",
   "execution_count": null,
   "id": "e2143731",
   "metadata": {},
   "outputs": [],
   "source": [
    "pip install --upgrade typing_extensions\n"
   ]
  },
  {
   "cell_type": "code",
   "execution_count": null,
   "id": "75712287-c71e-4ffb-b81b-8f9a99aeb1f2",
   "metadata": {},
   "outputs": [],
   "source": [
    "!pip install --upgrade pydantic\n"
   ]
  },
  {
   "cell_type": "code",
   "execution_count": null,
   "id": "2a840d61-c415-4539-b011-82527bd398d3",
   "metadata": {},
   "outputs": [],
   "source": [
    "!pip install --upgrade gradio\n"
   ]
  },
  {
   "cell_type": "markdown",
   "id": "06de8891-1f12-47dd-809a-f93da0f9fb70",
   "metadata": {},
   "source": [
    "### PIPELINE"
   ]
  },
  {
   "cell_type": "code",
   "execution_count": null,
   "id": "1dcb6edf-b09c-40b6-b899-e874df06636e",
   "metadata": {},
   "outputs": [],
   "source": []
  },
  {
   "cell_type": "code",
   "execution_count": null,
   "id": "901cafbb-cc73-42ff-b9e7-7107215318bc",
   "metadata": {},
   "outputs": [],
   "source": [
    "import gradio as gr"
   ]
  },
  {
   "cell_type": "code",
   "execution_count": null,
   "id": "fef71bbb-def6-40bb-ad19-f84e3ea9b7d4",
   "metadata": {},
   "outputs": [],
   "source": [
    "# Create Gradio inference pipeline\n",
    "def predict(X_COORD_CD, Y_COORD_CD, Latitude, Longitude):\n",
    "    model = joblib.load('best_model.pkl')\n",
    "    input_data = pd.DataFrame({\n",
    "        'X_COORD_CD': [X_COORD_CD],\n",
    "        'Y_COORD_CD': [Y_COORD_CD],\n",
    "        'Latitude': [Latitude],\n",
    "        'Longitude': [Longitude]        \n",
    "    })\n",
    "    input_data_scaled = scaler.transform(input_data)\n",
    "    prediction = model.predict(input_data_scaled)\n",
    "    return 'Murder' if prediction[0]  else 'Not Murder'\n"
   ]
  },
  {
   "cell_type": "code",
   "execution_count": null,
   "id": "92d153a6-a37b-4ff3-9406-cc6df55017b7",
   "metadata": {
    "scrolled": true
   },
   "outputs": [],
   "source": [
    "# Define Gradio interface\n",
    "interface = gr.Interface(\n",
    "    fn=predict,\n",
    "    inputs=[\n",
    "        gr.Number(label='X_COORD_CD'),\n",
    "        gr.Number(label='Y_COORD_CD'),\n",
    "        gr.Number(label='Latitude'),\n",
    "        gr.Number(label='Longitude')\n",
    "    ],\n",
    "    outputs='text',\n",
    "    title='NYPD Shooting Incident Prediction',\n",
    "    description='Predict whether a shooting incident is classified as murder or not based on coordinates.'\n",
    ")\n",
    "\n",
    "# Launch the interface\n",
    "interface.launch(share=True)"
   ]
  },
  {
   "cell_type": "code",
   "execution_count": null,
   "id": "6e0f6171-6243-4e2b-99ef-15f3f4ee90ae",
   "metadata": {},
   "outputs": [],
   "source": []
  },
  {
   "cell_type": "code",
   "execution_count": null,
   "id": "978c83d6-2033-41c6-9fb2-70b1ee53db46",
   "metadata": {},
   "outputs": [],
   "source": []
  },
  {
   "cell_type": "code",
   "execution_count": null,
   "id": "ec4dbaea-df04-49f8-a66c-4bdb6ea25ba5",
   "metadata": {},
   "outputs": [],
   "source": []
  }
 ],
 "metadata": {
  "kernelspec": {
   "display_name": "Python 3 (ipykernel)",
   "language": "python",
   "name": "python3"
  },
  "language_info": {
   "codemirror_mode": {
    "name": "ipython",
    "version": 3
   },
   "file_extension": ".py",
   "mimetype": "text/x-python",
   "name": "python",
   "nbconvert_exporter": "python",
   "pygments_lexer": "ipython3",
   "version": "3.11.9"
  }
 },
 "nbformat": 4,
 "nbformat_minor": 5
}
